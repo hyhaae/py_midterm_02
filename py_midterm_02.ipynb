{
 "cells": [
  {
   "cell_type": "code",
   "execution_count": 23,
   "metadata": {
    "collapsed": false
   },
   "outputs": [
    {
     "name": "stdout",
     "output_type": "stream",
     "text": [
      "1.4142135623730951\n"
     ]
    }
   ],
   "source": [
    "import math # import sqrt()\n",
    "\n",
    "def Std_Div(x):\n",
    "    'Standard Diviation Function, Please input a list' # docstring\n",
    "\n",
    "    sumation = 0\n",
    "    sigma = 0\n",
    "    N= len(x)\n",
    "    \n",
    "    for i in x:\n",
    "        \n",
    "        sumation += i\n",
    "    mu = sumation / N\n",
    "\n",
    "    for i in x:\n",
    "        sigma += (i - mu)**2\n",
    "    \n",
    "    return math.sqrt(sigma/N)\n",
    "\n",
    "# call list\n",
    "my_list = range(1,6)\n",
    "print(Std_Div(my_list))\n"
   ]
  },
  {
   "cell_type": "code",
   "execution_count": null,
   "metadata": {
    "collapsed": false
   },
   "outputs": [],
   "source": []
  },
  {
   "cell_type": "code",
   "execution_count": null,
   "metadata": {
    "collapsed": true
   },
   "outputs": [],
   "source": []
  }
 ],
 "metadata": {
  "kernelspec": {
   "display_name": "Python 3",
   "language": "python",
   "name": "python3"
  },
  "language_info": {
   "codemirror_mode": {
    "name": "ipython",
    "version": 3
   },
   "file_extension": ".py",
   "mimetype": "text/x-python",
   "name": "python",
   "nbconvert_exporter": "python",
   "pygments_lexer": "ipython3",
   "version": "3.5.2"
  }
 },
 "nbformat": 4,
 "nbformat_minor": 1
}
